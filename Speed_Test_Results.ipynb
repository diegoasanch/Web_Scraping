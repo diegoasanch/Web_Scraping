{
 "cells": [
  {
   "cell_type": "code",
   "execution_count": 1,
   "metadata": {},
   "outputs": [],
   "source": [
    "from selenium import webdriver\n",
    "from bs4 import BeautifulSoup\n",
    "import pandas as pd\n",
    "from datetime import datetime"
   ]
  },
  {
   "cell_type": "code",
   "execution_count": 2,
   "metadata": {},
   "outputs": [],
   "source": [
    "clean = lambda string: string.strip('\\n').strip()"
   ]
  },
  {
   "cell_type": "code",
   "execution_count": 3,
   "metadata": {},
   "outputs": [],
   "source": [
    "def soupGenerator(url, parser=\"html.parser\", driver_path=r\"C:\\Apps\\chromedriver_win32\\chromedriver.exe\"):\n",
    "    driver = webdriver.Chrome(driver_path)\n",
    "    driver.get(url)\n",
    "    content = driver.page_source\n",
    "    driver.close()\n",
    "    return BeautifulSoup(content, parser)"
   ]
  },
  {
   "cell_type": "code",
   "execution_count": 4,
   "metadata": {},
   "outputs": [],
   "source": [
    "def fillArray(array, soup):\n",
    "    for a in soup.findAll('tr', attrs={'class':'data-result results'}):\n",
    "        rank = a.find('td', attrs={'class': 'rank actual-rank'}).text\n",
    "        country = a.find('td', attrs={'class': 'country'}).text\n",
    "        speed = a.find('td', attrs={'class': 'speed'}).text\n",
    "        array.append([int(clean(rank)), clean(country), float(clean(speed))])"
   ]
  },
  {
   "cell_type": "code",
   "execution_count": 5,
   "metadata": {},
   "outputs": [],
   "source": [
    "time = datetime.now().strftime(\"%Y %b %d %H:%M:%S\")\n",
    "url = r\"https://www.speedtest.net/global-index\"\n",
    "soup = soupGenerator(url)\n",
    "fixed = soup.find('div', attrs={\"id\": \"column-fixed\"})\n",
    "mobile = soup.find('div', attrs={\"id\": \"column-mobile\"})"
   ]
  },
  {
   "cell_type": "code",
   "execution_count": 6,
   "metadata": {},
   "outputs": [],
   "source": [
    "fixed_rankings = []\n",
    "fixed_sheet_name = 'Fixed Connection index'\n",
    "mobile_rankings = []\n",
    "mobile_sheet_name = 'Mobile Connection index'"
   ]
  },
  {
   "cell_type": "code",
   "execution_count": 7,
   "metadata": {},
   "outputs": [],
   "source": [
    "for array, soup in [[fixed_rankings, fixed],[mobile_rankings, mobile]]:\n",
    "    fillArray(array, soup)    "
   ]
  },
  {
   "cell_type": "code",
   "execution_count": 8,
   "metadata": {},
   "outputs": [],
   "source": [
    "with pd.ExcelWriter('speed_test.xlsx') as writer:\n",
    "    df1 = pd.DataFrame(data=fixed_rankings, columns=['Rank','Country', 'Speed Mb/s'])\n",
    "    df1.to_excel(writer, sheet_name=fixed_sheet_name, index=False, startrow=2, startcol=0)\n",
    "    df2 = pd.DataFrame(data=mobile_rankings, columns=['Rank','Country', 'Speed Mb/s'])\n",
    "    df2.to_excel(writer, sheet_name=mobile_sheet_name, index=False, startrow=2, startcol=0)\n",
    "    \n",
    "    ws = writer.sheets[fixed_sheet_name]\n",
    "    ws.cell(row=1, column=1).value = 'Updated on: ' + time\n",
    "    ws2 = writer.sheets[mobile_sheet_name]\n",
    "    ws2.cell(row=1, column=1).value = 'Updated on: ' + time"
   ]
  },
  {
   "cell_type": "code",
   "execution_count": null,
   "metadata": {},
   "outputs": [],
   "source": []
  }
 ],
 "metadata": {
  "kernelspec": {
   "display_name": "Python 3",
   "language": "python",
   "name": "python3"
  },
  "language_info": {
   "codemirror_mode": {
    "name": "ipython",
    "version": 3
   },
   "file_extension": ".py",
   "mimetype": "text/x-python",
   "name": "python",
   "nbconvert_exporter": "python",
   "pygments_lexer": "ipython3",
   "version": "3.8.2"
  }
 },
 "nbformat": 4,
 "nbformat_minor": 4
}
