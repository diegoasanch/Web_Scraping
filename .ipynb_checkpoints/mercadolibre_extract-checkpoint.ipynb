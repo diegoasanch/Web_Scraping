{
 "cells": [
  {
   "cell_type": "code",
   "execution_count": 6,
   "metadata": {},
   "outputs": [
    {
     "name": "stdout",
     "output_type": "stream",
     "text": [
      "C:\\Users\\diegoasanch\\Documents\\Python\\Jupyter\\Web_Scraping\n"
     ]
    }
   ],
   "source": [
    "cd Documents/Python/Jupyter/Web_Scraping"
   ]
  },
  {
   "cell_type": "code",
   "execution_count": 7,
   "metadata": {},
   "outputs": [],
   "source": [
    "from scraping_tools import soupGenerator, clean\n",
    "from bs4 import BeautifulSoup\n",
    "from selenium import webdriver\n",
    "import pandas as pd\n",
    "from datetime import datetime"
   ]
  },
  {
   "cell_type": "code",
   "execution_count": 47,
   "metadata": {},
   "outputs": [],
   "source": [
    "def timer(func):\n",
    "    'Prints function runtime'\n",
    "\n",
    "    def wrapper():\n",
    "        time1 = datetime.now()\n",
    "        func()\n",
    "        time2 = datetime.now()\n",
    "        print(f'Runtime: {time2 - time1}')\n",
    "        \n",
    "    return wrapper"
   ]
  },
  {
   "cell_type": "code",
   "execution_count": 17,
   "metadata": {},
   "outputs": [],
   "source": [
    "url = r\"https://listado.mercadolibre.com.ar/horno-electrico#D[A:horno%20electrico]\""
   ]
  },
  {
   "cell_type": "code",
   "execution_count": 19,
   "metadata": {},
   "outputs": [],
   "source": [
    "def get_time(time_format=\"%Y %b %d %H:%M:%S\"):\n",
    "    return datetime.now().strftime(time_format)"
   ]
  },
  {
   "cell_type": "code",
   "execution_count": 20,
   "metadata": {},
   "outputs": [],
   "source": [
    "soup = soupGenerator(url)\n",
    "time = get_time()"
   ]
  },
  {
   "cell_type": "code",
   "execution_count": 41,
   "metadata": {},
   "outputs": [],
   "source": [
    "products = []\n",
    "titles = ['Nombre', 'Precio', 'Rating', 'Link', 'Reviews']\n",
    "search_name = 'Hornos eléctricos'\n",
    "\n",
    "results = soup.find(id='searchResults')\n",
    "\n",
    "for item in soup.findAll('div', class_='rowItem item product-item highlighted item--grid new with-reviews'):\n",
    "    \n",
    "    name = item.find('span', class_='main-title').text.strip(search_name)\n",
    "    \n",
    "    price = item.find('span', class_='price__fraction').text\n",
    "    mil, dec = map(int, price.split('.'))\n",
    "    price = (mil*1000) + dec\n",
    "    \n",
    "    rating = len(item.findAll('div', class_='star star-icon-full')) + .5 * len(item.findAll('div', class_='star star-icon-half'))\n",
    "    reviews = int(item.find('div', class_='item__reviews-total').text)\n",
    "    \n",
    "    link = item.find('a')['href']\n",
    "    \n",
    "    products.append([name, price, rating, link, reviews])"
   ]
  },
  {
   "cell_type": "code",
   "execution_count": 42,
   "metadata": {},
   "outputs": [],
   "source": [
    "price_cell = lambda row: row[1]\n",
    "products.sort(key=price_cell)"
   ]
  },
  {
   "cell_type": "code",
   "execution_count": null,
   "metadata": {},
   "outputs": [],
   "source": []
  },
  {
   "cell_type": "code",
   "execution_count": 43,
   "metadata": {},
   "outputs": [],
   "source": [
    "sheet_n = f\"{get_time('%b %d %H.%M')} search\""
   ]
  },
  {
   "cell_type": "code",
   "execution_count": 44,
   "metadata": {},
   "outputs": [],
   "source": [
    "with pd.ExcelWriter('hornos_electricos_ML.xlsx', mode='a') as writer:\n",
    "    df1 = pd.DataFrame(data=products, columns=titles)\n",
    "    df1.to_excel(writer, sheet_name=sheet_n, index=False, startrow=3)\n",
    "    \n",
    "    sheet = writer.sheets[sheet_n]\n",
    "    sheet.cell(row=1, column=1).value = f'Mercadolibre search: {search_name}'\n",
    "    sheet.cell(row=2, column=1).value = 'Searched on: ' + time"
   ]
  },
  {
   "cell_type": "code",
   "execution_count": 45,
   "metadata": {},
   "outputs": [],
   "source": [
    "writer.close()"
   ]
  },
  {
   "cell_type": "code",
   "execution_count": null,
   "metadata": {},
   "outputs": [],
   "source": []
  },
  {
   "cell_type": "code",
   "execution_count": null,
   "metadata": {},
   "outputs": [],
   "source": []
  },
  {
   "cell_type": "code",
   "execution_count": null,
   "metadata": {},
   "outputs": [],
   "source": []
  },
  {
   "cell_type": "code",
   "execution_count": null,
   "metadata": {},
   "outputs": [],
   "source": []
  },
  {
   "cell_type": "code",
   "execution_count": null,
   "metadata": {},
   "outputs": [],
   "source": []
  },
  {
   "cell_type": "code",
   "execution_count": 1,
   "metadata": {},
   "outputs": [
    {
     "name": "stdin",
     "output_type": "stream",
     "text": [
      "Ingrese el articulo a buscar:  olla de presion\n"
     ]
    }
   ],
   "source": [
    "to_search = input('Ingrese el articulo a buscar: ').split()\n",
    "\n",
    "url = r\"https://listado.mercadolibre.com.ar/\" + f\"{'-'.join(to_search)}#D[A:{'%20'.join(to_search)}]\"\n",
    "# url = r\"https://listado.mercadolibre.com.ar/horno-electrico#D[A:horno%20electrico]\""
   ]
  },
  {
   "cell_type": "code",
   "execution_count": 2,
   "metadata": {},
   "outputs": [
    {
     "name": "stdout",
     "output_type": "stream",
     "text": [
      "https://listado.mercadolibre.com.ar/olla-de-presion#D[A:olla%20de%20presion]\n"
     ]
    }
   ],
   "source": [
    "print(url)"
   ]
  }
 ],
 "metadata": {
  "kernelspec": {
   "display_name": "Python 3",
   "language": "python",
   "name": "python3"
  },
  "language_info": {
   "codemirror_mode": {
    "name": "ipython",
    "version": 3
   },
   "file_extension": ".py",
   "mimetype": "text/x-python",
   "name": "python",
   "nbconvert_exporter": "python",
   "pygments_lexer": "ipython3",
   "version": "3.8.2"
  }
 },
 "nbformat": 4,
 "nbformat_minor": 4
}
